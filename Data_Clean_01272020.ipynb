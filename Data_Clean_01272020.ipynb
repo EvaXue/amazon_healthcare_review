{
 "cells": [
  {
   "cell_type": "code",
   "execution_count": 1,
   "metadata": {},
   "outputs": [],
   "source": [
    "from datetime import date, datetime, timedelta\n",
    "import pymysql\n",
    "import csv\n",
    "import os\n",
    "from pandas import DataFrame\n",
    "import pandas as pd\n",
    "from sqlalchemy import create_engine\n",
    "import mysql.connector\n",
    "from mysql.connector import errorcode\n",
    "import glob\n",
    "import logging"
   ]
  },
  {
   "cell_type": "markdown",
   "metadata": {},
   "source": [
    "### Configure log information "
   ]
  },
  {
   "cell_type": "code",
   "execution_count": 2,
   "metadata": {},
   "outputs": [],
   "source": [
    "logger = logging.getLogger()\n",
    "fhandler = logging.FileHandler(filename='mylog.log', mode='a')\n",
    "formatter = logging.Formatter('%(asctime)s - %(name)s - %(levelname)s - %(message)s')\n",
    "fhandler.setFormatter(formatter)\n",
    "logger.addHandler(fhandler)\n",
    "logger.setLevel(logging.DEBUG)"
   ]
  },
  {
   "cell_type": "markdown",
   "metadata": {},
   "source": [
    "### Connect to mysql database"
   ]
  },
  {
   "cell_type": "code",
   "execution_count": 3,
   "metadata": {},
   "outputs": [
    {
     "name": "stdout",
     "output_type": "stream",
     "text": [
      "Amazon_review connection works!\n"
     ]
    }
   ],
   "source": [
    "try:\n",
    "    cnn = mysql.connector.connect(\n",
    "    user='root',\n",
    "    password='root',\n",
    "    host='127.0.0.1',\n",
    "    database='Amazon_review',\n",
    "    port='3307')\n",
    "    print (\"Amazon_review connection works!\")\n",
    "    cursor = cnn.cursor()\n",
    "    \n",
    "except mysql.connector.Error as e:\n",
    "    if e.errno == errorcode.ER_ACCESS_DENIED_ERROR:\n",
    "        print(\"Something is wrong with Username or Password\")\n",
    "    elif e.errno == errorcode.ER_BAD_DB_ERROR:\n",
    "        print(\"database Does not exist\")\n",
    "    else:\n",
    "        print(e)\n",
    "\n",
    "cursor.execute(\"show tables;\")\n",
    "results = cursor.fetchall()\n",
    "logging.info('***********************************************')\n",
    "logging.info(results)"
   ]
  },
  {
   "cell_type": "code",
   "execution_count": 4,
   "metadata": {},
   "outputs": [],
   "source": [
    "cursor.execute(\"select product_id, rating,helpful_votes, review_date, title, review from helpful_review;\")\n",
    "amazon_full = cursor.fetchall()\n",
    "num_fields = len(cursor.description)\n",
    "field_names = [i[0] for i in cursor.description]\n",
    "df = pd.DataFrame(amazon_full, columns=field_names)   "
   ]
  },
  {
   "cell_type": "code",
   "execution_count": 21,
   "metadata": {},
   "outputs": [
    {
     "name": "stdout",
     "output_type": "stream",
     "text": [
      "January-5-2020\n"
     ]
    },
    {
     "data": {
      "text/plain": [
       "datetime.datetime(2020, 1, 5, 0, 0)"
      ]
     },
     "execution_count": 21,
     "metadata": {},
     "output_type": "execute_result"
    }
   ],
   "source": [
    "t = 'January 5, 2020'.replace(\",\", \"\")\n",
    "t = t.replace(\" \", \"-\")\n",
    "print(t)\n",
    "date_object = datetime.strptime(t, \"%B-%d-%Y\")\n",
    "date_object\n"
   ]
  },
  {
   "cell_type": "markdown",
   "metadata": {},
   "source": [
    "### Format the data "
   ]
  },
  {
   "cell_type": "code",
   "execution_count": 23,
   "metadata": {},
   "outputs": [
    {
     "data": {
      "text/html": [
       "<div>\n",
       "<style scoped>\n",
       "    .dataframe tbody tr th:only-of-type {\n",
       "        vertical-align: middle;\n",
       "    }\n",
       "\n",
       "    .dataframe tbody tr th {\n",
       "        vertical-align: top;\n",
       "    }\n",
       "\n",
       "    .dataframe thead th {\n",
       "        text-align: right;\n",
       "    }\n",
       "</style>\n",
       "<table border=\"1\" class=\"dataframe\">\n",
       "  <thead>\n",
       "    <tr style=\"text-align: right;\">\n",
       "      <th></th>\n",
       "      <th>product_id</th>\n",
       "      <th>rating</th>\n",
       "      <th>helpful_votes</th>\n",
       "      <th>review_date</th>\n",
       "      <th>title</th>\n",
       "      <th>review</th>\n",
       "    </tr>\n",
       "  </thead>\n",
       "  <tbody>\n",
       "    <tr>\n",
       "      <th>count</th>\n",
       "      <td>2484</td>\n",
       "      <td>2484.000000</td>\n",
       "      <td>2484.000000</td>\n",
       "      <td>2484</td>\n",
       "      <td>2484</td>\n",
       "      <td>2484</td>\n",
       "    </tr>\n",
       "    <tr>\n",
       "      <th>unique</th>\n",
       "      <td>14</td>\n",
       "      <td>NaN</td>\n",
       "      <td>NaN</td>\n",
       "      <td>941</td>\n",
       "      <td>1858</td>\n",
       "      <td>2456</td>\n",
       "    </tr>\n",
       "    <tr>\n",
       "      <th>top</th>\n",
       "      <td>B07H7Q1DFP</td>\n",
       "      <td>NaN</td>\n",
       "      <td>NaN</td>\n",
       "      <td>2020-01-05 00:00:00</td>\n",
       "      <td>Five Stars</td>\n",
       "      <td>Great</td>\n",
       "    </tr>\n",
       "    <tr>\n",
       "      <th>freq</th>\n",
       "      <td>746</td>\n",
       "      <td>NaN</td>\n",
       "      <td>NaN</td>\n",
       "      <td>14</td>\n",
       "      <td>120</td>\n",
       "      <td>7</td>\n",
       "    </tr>\n",
       "    <tr>\n",
       "      <th>first</th>\n",
       "      <td>NaN</td>\n",
       "      <td>NaN</td>\n",
       "      <td>NaN</td>\n",
       "      <td>2008-07-19 00:00:00</td>\n",
       "      <td>NaN</td>\n",
       "      <td>NaN</td>\n",
       "    </tr>\n",
       "    <tr>\n",
       "      <th>last</th>\n",
       "      <td>NaN</td>\n",
       "      <td>NaN</td>\n",
       "      <td>NaN</td>\n",
       "      <td>2020-01-25 00:00:00</td>\n",
       "      <td>NaN</td>\n",
       "      <td>NaN</td>\n",
       "    </tr>\n",
       "    <tr>\n",
       "      <th>mean</th>\n",
       "      <td>NaN</td>\n",
       "      <td>4.489533</td>\n",
       "      <td>0.464573</td>\n",
       "      <td>NaN</td>\n",
       "      <td>NaN</td>\n",
       "      <td>NaN</td>\n",
       "    </tr>\n",
       "    <tr>\n",
       "      <th>std</th>\n",
       "      <td>NaN</td>\n",
       "      <td>1.053680</td>\n",
       "      <td>2.697076</td>\n",
       "      <td>NaN</td>\n",
       "      <td>NaN</td>\n",
       "      <td>NaN</td>\n",
       "    </tr>\n",
       "    <tr>\n",
       "      <th>min</th>\n",
       "      <td>NaN</td>\n",
       "      <td>1.000000</td>\n",
       "      <td>0.000000</td>\n",
       "      <td>NaN</td>\n",
       "      <td>NaN</td>\n",
       "      <td>NaN</td>\n",
       "    </tr>\n",
       "    <tr>\n",
       "      <th>25%</th>\n",
       "      <td>NaN</td>\n",
       "      <td>4.000000</td>\n",
       "      <td>0.000000</td>\n",
       "      <td>NaN</td>\n",
       "      <td>NaN</td>\n",
       "      <td>NaN</td>\n",
       "    </tr>\n",
       "    <tr>\n",
       "      <th>50%</th>\n",
       "      <td>NaN</td>\n",
       "      <td>5.000000</td>\n",
       "      <td>0.000000</td>\n",
       "      <td>NaN</td>\n",
       "      <td>NaN</td>\n",
       "      <td>NaN</td>\n",
       "    </tr>\n",
       "    <tr>\n",
       "      <th>75%</th>\n",
       "      <td>NaN</td>\n",
       "      <td>5.000000</td>\n",
       "      <td>0.000000</td>\n",
       "      <td>NaN</td>\n",
       "      <td>NaN</td>\n",
       "      <td>NaN</td>\n",
       "    </tr>\n",
       "    <tr>\n",
       "      <th>max</th>\n",
       "      <td>NaN</td>\n",
       "      <td>5.000000</td>\n",
       "      <td>76.000000</td>\n",
       "      <td>NaN</td>\n",
       "      <td>NaN</td>\n",
       "      <td>NaN</td>\n",
       "    </tr>\n",
       "  </tbody>\n",
       "</table>\n",
       "</div>"
      ],
      "text/plain": [
       "        product_id       rating  helpful_votes          review_date  \\\n",
       "count         2484  2484.000000    2484.000000                 2484   \n",
       "unique          14          NaN            NaN                  941   \n",
       "top     B07H7Q1DFP          NaN            NaN  2020-01-05 00:00:00   \n",
       "freq           746          NaN            NaN                   14   \n",
       "first          NaN          NaN            NaN  2008-07-19 00:00:00   \n",
       "last           NaN          NaN            NaN  2020-01-25 00:00:00   \n",
       "mean           NaN     4.489533       0.464573                  NaN   \n",
       "std            NaN     1.053680       2.697076                  NaN   \n",
       "min            NaN     1.000000       0.000000                  NaN   \n",
       "25%            NaN     4.000000       0.000000                  NaN   \n",
       "50%            NaN     5.000000       0.000000                  NaN   \n",
       "75%            NaN     5.000000       0.000000                  NaN   \n",
       "max            NaN     5.000000      76.000000                  NaN   \n",
       "\n",
       "             title review  \n",
       "count         2484   2484  \n",
       "unique        1858   2456  \n",
       "top     Five Stars  Great  \n",
       "freq           120      7  \n",
       "first          NaN    NaN  \n",
       "last           NaN    NaN  \n",
       "mean           NaN    NaN  \n",
       "std            NaN    NaN  \n",
       "min            NaN    NaN  \n",
       "25%            NaN    NaN  \n",
       "50%            NaN    NaN  \n",
       "75%            NaN    NaN  \n",
       "max            NaN    NaN  "
      ]
     },
     "execution_count": 23,
     "metadata": {},
     "output_type": "execute_result"
    }
   ],
   "source": [
    "df['rating']=pd.to_numeric(df['rating'])\n",
    "df['helpful_votes']=pd.to_numeric(df['helpful_votes'])\n",
    "df['review_date']=df['review_date'].apply(lambda x: datetime.strptime(x.replace(\",\", \"\").replace(\" \", \"-\"), \"%B-%d-%Y\"))\n",
    "#df['review_date'] = df['review_date'].apply(lambda x: )\n",
    "df.describe(include='all')"
   ]
  },
  {
   "cell_type": "code",
   "execution_count": 24,
   "metadata": {},
   "outputs": [
    {
     "data": {
      "text/plain": [
       "2020-01-05    14\n",
       "2019-12-12    12\n",
       "2019-07-09    11\n",
       "2019-08-23    11\n",
       "2019-09-18    11\n",
       "2019-12-14    11\n",
       "2019-06-24    10\n",
       "2019-07-22    10\n",
       "2019-12-17    10\n",
       "2019-12-26    10\n",
       "2019-12-16    10\n",
       "2019-07-17    10\n",
       "2019-12-21     9\n",
       "2019-10-08     9\n",
       "2019-02-24     9\n",
       "2019-12-18     9\n",
       "2019-10-04     9\n",
       "2020-01-11     9\n",
       "2019-06-19     9\n",
       "2019-07-24     9\n",
       "2020-01-03     9\n",
       "2019-12-27     9\n",
       "2019-07-08     9\n",
       "2019-11-18     9\n",
       "2020-01-12     8\n",
       "2019-09-17     8\n",
       "2020-01-21     8\n",
       "2019-12-15     8\n",
       "2019-11-14     8\n",
       "2019-12-31     8\n",
       "              ..\n",
       "2017-08-23     1\n",
       "2018-04-28     1\n",
       "2017-01-12     1\n",
       "2019-01-01     1\n",
       "2017-09-01     1\n",
       "2018-04-17     1\n",
       "2017-10-30     1\n",
       "2018-07-19     1\n",
       "2017-05-14     1\n",
       "2016-11-26     1\n",
       "2017-03-21     1\n",
       "2018-08-31     1\n",
       "2018-10-25     1\n",
       "2017-03-29     1\n",
       "2017-10-06     1\n",
       "2018-07-03     1\n",
       "2018-06-10     1\n",
       "2018-06-12     1\n",
       "2016-08-26     1\n",
       "2018-10-18     1\n",
       "2017-07-19     1\n",
       "2015-09-12     1\n",
       "2015-06-03     1\n",
       "2018-08-29     1\n",
       "2017-09-23     1\n",
       "2018-12-01     1\n",
       "2016-08-04     1\n",
       "2017-04-09     1\n",
       "2017-01-09     1\n",
       "2017-09-19     1\n",
       "Name: review_date, Length: 941, dtype: int64"
      ]
     },
     "execution_count": 24,
     "metadata": {},
     "output_type": "execute_result"
    }
   ],
   "source": [
    "df.review_date.value_counts()"
   ]
  }
 ],
 "metadata": {
  "kernelspec": {
   "display_name": "Python 2",
   "language": "python",
   "name": "python2"
  },
  "language_info": {
   "codemirror_mode": {
    "name": "ipython",
    "version": 2
   },
   "file_extension": ".py",
   "mimetype": "text/x-python",
   "name": "python",
   "nbconvert_exporter": "python",
   "pygments_lexer": "ipython2",
   "version": "2.7.17"
  }
 },
 "nbformat": 4,
 "nbformat_minor": 2
}
